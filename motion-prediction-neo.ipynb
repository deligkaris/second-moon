{
 "cells": [
  {
   "cell_type": "markdown",
   "metadata": {},
   "source": [
    "**MOTION PREDICTION OF NEO  \n",
    "AUTHOR: CHRISTOS DELIGKARIS  \n",
    "DATE: FEBRUARY 2017**"
   ]
  },
  {
   "cell_type": "markdown",
   "metadata": {},
   "source": [
    "IMPORT PACKAGES"
   ]
  },
  {
   "cell_type": "code",
   "execution_count": 1,
   "metadata": {
    "collapsed": false
   },
   "outputs": [
    {
     "data": {
      "application/javascript": [
       "require.undef(\"nbextensions/vpython_libraries/jquery-ui.custom.min\");"
      ],
      "text/plain": [
       "<IPython.core.display.Javascript object>"
      ]
     },
     "metadata": {},
     "output_type": "display_data"
    },
    {
     "data": {
      "application/javascript": [
       "require.undef(\"nbextensions/vpython_libraries/glow.2.1.min\");"
      ],
      "text/plain": [
       "<IPython.core.display.Javascript object>"
      ]
     },
     "metadata": {},
     "output_type": "display_data"
    },
    {
     "data": {
      "application/javascript": [
       "require.undef(\"nbextensions/vpython_libraries/glowcomm\");"
      ],
      "text/plain": [
       "<IPython.core.display.Javascript object>"
      ]
     },
     "metadata": {},
     "output_type": "display_data"
    },
    {
     "data": {
      "application/javascript": [
       "require([\"nbextensions/vpython_libraries/jquery-ui.custom.min\"], function(){console.log(\"JQUERY LOADED\");})"
      ],
      "text/plain": [
       "<IPython.core.display.Javascript object>"
      ]
     },
     "metadata": {},
     "output_type": "display_data"
    },
    {
     "data": {
      "application/javascript": [
       "require([\"nbextensions/vpython_libraries/glow.2.1.min\"], function(){console.log(\"GLOW LOADED\");})"
      ],
      "text/plain": [
       "<IPython.core.display.Javascript object>"
      ]
     },
     "metadata": {},
     "output_type": "display_data"
    },
    {
     "data": {
      "application/javascript": [
       "require([\"nbextensions/vpython_libraries/glowcomm\"], function(){console.log(\"GLOWCOMM LOADED\");})"
      ],
      "text/plain": [
       "<IPython.core.display.Javascript object>"
      ]
     },
     "metadata": {},
     "output_type": "display_data"
    },
    {
     "data": {
      "text/html": [
       "<div id=\"glowscript\" class=\"glowscript\"></div>"
      ],
      "text/plain": [
       "<IPython.core.display.HTML object>"
      ]
     },
     "metadata": {},
     "output_type": "display_data"
    },
    {
     "data": {
      "application/javascript": [
       "window.__context = { glowscript_container: $(\"#glowscript\").removeAttr(\"id\")}"
      ],
      "text/plain": [
       "<IPython.core.display.Javascript object>"
      ]
     },
     "metadata": {},
     "output_type": "display_data"
    }
   ],
   "source": [
    "import numpy as np\n",
    "import matplotlib.pyplot as plt\n",
    "import math\n",
    "import vpython as vp"
   ]
  },
  {
   "cell_type": "markdown",
   "metadata": {},
   "source": [
    "DEFINE THE SCENES"
   ]
  },
  {
   "cell_type": "code",
   "execution_count": 2,
   "metadata": {
    "collapsed": false
   },
   "outputs": [
    {
     "data": {
      "text/html": [
       "<div id=\"glowscript\" class=\"glowscript\"></div>"
      ],
      "text/plain": [
       "<IPython.core.display.HTML object>"
      ]
     },
     "metadata": {},
     "output_type": "display_data"
    },
    {
     "data": {
      "application/javascript": [
       "window.__context = { glowscript_container: $(\"#glowscript\").removeAttr(\"id\")}"
      ],
      "text/plain": [
       "<IPython.core.display.Javascript object>"
      ]
     },
     "metadata": {},
     "output_type": "display_data"
    },
    {
     "data": {
      "text/html": [
       "<div id=\"glowscript\" class=\"glowscript\"></div>"
      ],
      "text/plain": [
       "<IPython.core.display.HTML object>"
      ]
     },
     "metadata": {},
     "output_type": "display_data"
    },
    {
     "data": {
      "application/javascript": [
       "window.__context = { glowscript_container: $(\"#glowscript\").removeAttr(\"id\")}"
      ],
      "text/plain": [
       "<IPython.core.display.Javascript object>"
      ]
     },
     "metadata": {},
     "output_type": "display_data"
    },
    {
     "data": {
      "text/html": [
       "<div id=\"glowscript\" class=\"glowscript\"></div>"
      ],
      "text/plain": [
       "<IPython.core.display.HTML object>"
      ]
     },
     "metadata": {},
     "output_type": "display_data"
    },
    {
     "data": {
      "application/javascript": [
       "window.__context = { glowscript_container: $(\"#glowscript\").removeAttr(\"id\")}"
      ],
      "text/plain": [
       "<IPython.core.display.Javascript object>"
      ]
     },
     "metadata": {},
     "output_type": "display_data"
    }
   ],
   "source": [
    "scene3 = vp.canvas(title='VECTORS', x=700, y=0, width=350, height=350, center=vp.vector(5,0,0), background=vp.vector(1,1,1),autoscale=True)\n",
    "scene2 = vp.canvas(title='WITH RESPECT TO EARTH', x=350, y=0, width=350, height=350, center=vp.vector(5,0,0), background=vp.vector(1,1,1),autoscale=True)\n",
    "scene1 = vp.canvas(title='WITH RESPECT TO SUN', x=0, y=0, width=350, height=350, center=vp.vector(5,0,0), background=vp.vector(1,1,1))"
   ]
  },
  {
   "cell_type": "markdown",
   "metadata": {},
   "source": [
    "CONSTANTS, PARAMETERS"
   ]
  },
  {
   "cell_type": "code",
   "execution_count": 3,
   "metadata": {
    "collapsed": false
   },
   "outputs": [],
   "source": [
    "day=90 #day after Jan.1 2006 when prediction begins\n",
    "deltat_h=86400 #delta t of Horizons data\n",
    "deltat=864 #delta t used in numerical calculations"
   ]
  },
  {
   "cell_type": "code",
   "execution_count": 4,
   "metadata": {
    "collapsed": true
   },
   "outputs": [],
   "source": [
    "object_list=[\"NEO\",\"Earth\",\"Moon\",\"Sun\"]"
   ]
  },
  {
   "cell_type": "code",
   "execution_count": null,
   "metadata": {
    "collapsed": true
   },
   "outputs": [],
   "source": [
    "#NEO arrays\n",
    "pos={}\n",
    "vel={}\n",
    "#Earth arrays\n",
    "posEarth={}\n",
    "velEarth={}\n",
    "#Moon arrays\n",
    "posMoon={}\n",
    "velMoon={}"
   ]
  },
  {
   "cell_type": "code",
   "execution_count": 5,
   "metadata": {
    "collapsed": false
   },
   "outputs": [],
   "source": [
    "scene1.select()\n",
    "Sun=vp.sphere(pos=vp.vector(0,0,0),radius=6.4e6,color=vp.color.orange)"
   ]
  },
  {
   "cell_type": "markdown",
   "metadata": {},
   "source": [
    "GET POSITIONS AND VELOCITIES OF NEO"
   ]
  },
  {
   "cell_type": "code",
   "execution_count": 6,
   "metadata": {
    "collapsed": true
   },
   "outputs": [],
   "source": [
    "def get_horizons_data(file):\n",
    "    input=open(file,'r')    #open the file with the Horizons system data\n",
    "    L=input.readlines() #read the file\n",
    "    i=0 #i will represent the line number (0 for the first line, 1 for the second line, etc)\n",
    "    imax=len(L) #imax-1 is the number of lines in the input file\n",
    "    pos={}  #an empty list for positions\n",
    "    vel={}  #an empty list for velocities\n",
    "    t=0\n",
    "    #deltat=86400\n",
    "\n",
    "    while i<imax:\n",
    "        if L[i] == \"$$SOE\\n\":   #when we reach the beginning of the data\n",
    "            i=i+1\n",
    "            while 1:\n",
    "                if L[i] == \"$$EOE\\n\": break #stop reading positions and velocities if end of data is reached\n",
    "                position = L[i+1].split()   #store the position of the object (need to split the string)\n",
    "                pos[t] = vp.vector(float(position[0]), float(position[1]), float(position[2]))     #convert the strings to floats and then vector\n",
    "                pos[t] = 1000.*pos[t]   #convert to meters\n",
    "                velocity = L[i+2].split()   #store the velocity of the object (need to split the string)\n",
    "                vel[t] = vp.vector(float(velocity[0]), float(velocity[1]), float(velocity[2]))     #convert the strings to floats and then vector\n",
    "                vel[t] = 1000.*vel[t]   #convert to m/s\n",
    "                i=i+3       #move to the next position and velocity of the object\n",
    "                t=t+deltat_h\n",
    "        i=i+1\n",
    "    tmax=t-deltat\n",
    "    return pos,vel,tmax"
   ]
  },
  {
   "cell_type": "code",
   "execution_count": 7,
   "metadata": {
    "collapsed": false
   },
   "outputs": [],
   "source": [
    "pos,vel,tmax=get_horizons_data('horizons-results-OtherMoon-wrt-Sun.txt')"
   ]
  },
  {
   "cell_type": "code",
   "execution_count": 9,
   "metadata": {
    "collapsed": false
   },
   "outputs": [],
   "source": [
    "t=0\n",
    "SecondMoonObs = vp.sphere(radius=1.75e6, color=vp.color.black, make_trail=True, pos=pos[t])\n",
    "while t<=tmax:\n",
    "    vp.rate(20)\n",
    "    SecondMoonObs.pos=pos[t]\n",
    "    t=t+deltat_h"
   ]
  },
  {
   "cell_type": "code",
   "execution_count": 8,
   "metadata": {
    "collapsed": false
   },
   "outputs": [],
   "source": [
    "craft=vp.sphere(radius=2e6,color=vp.color.red, make_trail=True, pos=pos[day*deltat_h])"
   ]
  },
  {
   "cell_type": "markdown",
   "metadata": {},
   "source": [
    "GET POSITIONS AND VELOCITIES OF MOON"
   ]
  },
  {
   "cell_type": "code",
   "execution_count": 10,
   "metadata": {
    "collapsed": false
   },
   "outputs": [],
   "source": [
    "posMoon,velMoon,tmaxMoon = get_horizons_data('horizons-results-Moon-wrt-Sun.txt')"
   ]
  },
  {
   "cell_type": "code",
   "execution_count": 11,
   "metadata": {
    "collapsed": false
   },
   "outputs": [],
   "source": [
    "t=0\n",
    "MoonObs = vp.sphere(radius=1.75e6, color=vp.color.red, make_trail=True, pos=posMoon[t])\n",
    "while t<=tmax:\n",
    "    #vp.rate(20)\n",
    "    MoonObs.pos=posMoon[t]\n",
    "    t=t+deltat_h"
   ]
  },
  {
   "cell_type": "code",
   "execution_count": 12,
   "metadata": {
    "collapsed": false
   },
   "outputs": [],
   "source": [
    "Moon=vp.sphere(radius=2*1.75e6,color=vp.color.green, pos=posMoon[day*deltat_h])"
   ]
  },
  {
   "cell_type": "markdown",
   "metadata": {},
   "source": [
    "GET POSITIONS AND VELOCITIES OF EARTH"
   ]
  },
  {
   "cell_type": "code",
   "execution_count": 13,
   "metadata": {
    "collapsed": true
   },
   "outputs": [],
   "source": [
    "posEarth,velEarth,tmaxEarth = get_horizons_data('horizons-results-Earth-wrt-Sun.txt')"
   ]
  },
  {
   "cell_type": "code",
   "execution_count": 14,
   "metadata": {
    "collapsed": false
   },
   "outputs": [],
   "source": [
    "t=0\n",
    "scene2.select()\n",
    "craft2Obs=vp.sphere(radius=1e6,color=vp.color.black,make_trail=True, pos=pos[t]-posEarth[t])\n",
    "scene1.select()\n",
    "EarthObs = vp.sphere(radius=1.75e6, color=vp.color.cyan, make_trail=True, pos=posEarth[t])\n",
    "while t<=tmax:\n",
    "    #vp.rate(20)\n",
    "    craft2Obs.pos=pos[t]-posEarth[t]\n",
    "    EarthObs.pos=posEarth[t]\n",
    "    t=t+deltat_h"
   ]
  },
  {
   "cell_type": "code",
   "execution_count": 15,
   "metadata": {
    "collapsed": true
   },
   "outputs": [],
   "source": [
    "Earth=vp.sphere(radius=6.4e6,color=vp.color.blue,pos=posEarth[day*deltat_h])\n",
    "scene2.select()\n",
    "craft2=vp.sphere(radius=1e6,color=vp.color.red,make_trail=True, pos=craft.pos-Earth.pos)"
   ]
  },
  {
   "cell_type": "markdown",
   "metadata": {},
   "source": [
    "CREATE FORCE, MOMENTUM ARROWS"
   ]
  },
  {
   "cell_type": "code",
   "execution_count": 16,
   "metadata": {
    "collapsed": false
   },
   "outputs": [],
   "source": [
    "scene3.select()\n",
    "parr_c=vp.arrow(color=vp.color.blue)\n",
    "fnetarr_c=vp.arrow(color=vp.color.red)#,shaftwidth=2e6)\n",
    "fnetpararr_c=vp.arrow(color=vp.color.red)\n",
    "fnetperarr_c=vp.arrow(color=vp.color.red)\n",
    "fearr_c=vp.arrow(color=vp.color.cyan)#,shaftwidth=2e6)\n",
    "fmarr_c=vp.arrow(color=vp.color.white)#,shaftwidth=2e6)\n",
    "fsunarr_c=vp.arrow(color=vp.color.green)\n",
    "fscale=1e8\n",
    "pscale=1e1\n",
    "scene1.select()"
   ]
  },
  {
   "cell_type": "markdown",
   "metadata": {},
   "source": [
    "GRAPHS"
   ]
  },
  {
   "cell_type": "code",
   "execution_count": 17,
   "metadata": {
    "collapsed": false
   },
   "outputs": [],
   "source": [
    "eg = vp.graph(title='ERROR',xtitle='Time [Seconds]',ytitle='Error [meters]',x=0,y=350,width=350,height=350)\n",
    "ErrorGraph = vp.gcurve(color=vp.color.red)\n",
    "\n",
    "fng = vp.graph(title='MAGNITUDES OF F NET COMPONENTS', xtitle='Time [Seconds]',ytitle='Force Magnitudes [Newtons]',x=350,y=350,width=350,height=350)\n",
    "FnetGraph = vp.gcurve(color=vp.color.red)\n",
    "FnetparGraph = vp.gcurve(color=vp.color.blue)\n",
    "FnetperGraph = vp.gcurve(color=vp.color.green)\n",
    "\n",
    "fperg = vp.graph(title='F NET PARALLEL', xtitle='Time [Seconds]',ytitle='F NET PARALLEL [Newtons]',x=700,y=350,width=350,height=350)\n",
    "FnetparPGraph = vp.gcurve(color=vp.color.blue)\n",
    "PFnetparGraph = vp.gcurve(color=vp.color.red)\n",
    "\n",
    "fparg = vp.graph(title='F NET PERPENDICULAR', xtitle='Time [Seconds]',ytitle='F NET PERPENDICULAR [Newtons]',x=1000,y=350,width=350,height=350)\n",
    "FnetperPGraph = vp.gcurve(color=vp.color.blue)\n",
    "PFnetperGraph = vp.gcurve(color=vp.color.red)\n",
    "\n",
    "eng = vp.graph(title='ENERGY-WORK',xtitle='Seconds',ytitle='Joules',x=1000,y=0,width=350,height=350)\n",
    "EkGraph = vp.gcurve(color=vp.color.magenta)\n",
    "#Ugraph=gcurve(color=color.yellow)\n",
    "#Etotal=gcurve(color=color.red)\n",
    "WGraph = vp.gcurve(color=vp.color.cyan)\n",
    "\n",
    "enrg = vp.graph(title='ENERGY-WORK',xtitle='Meters',ytitle='Joules',x=1000,y=0,width=350,height=350)\n",
    "EkrGraph = vp.gcurve(color=vp.color.magenta, dot=True)\n",
    "EprGraph = vp.gcurve(color=vp.color.green, dot=True)\n",
    "\n",
    "cg = vp.graph(title='ENERGY-CONSERVATION',xtitle='Seconds',ytitle='Joules',x=1000,y=0,width=350,height=350)\n",
    "DeltaEGraph = vp.gcurve(color=vp.color.red)"
   ]
  },
  {
   "cell_type": "markdown",
   "metadata": {},
   "source": [
    "CONSTANTS, PARAMETERS"
   ]
  },
  {
   "cell_type": "code",
   "execution_count": 18,
   "metadata": {
    "collapsed": true
   },
   "outputs": [],
   "source": [
    "G=6.67e-11\n",
    "Earth.m=6e24\n",
    "craft.m=15e3\n",
    "Moon.m=7e22\n",
    "Sun.m=2e30"
   ]
  },
  {
   "cell_type": "markdown",
   "metadata": {},
   "source": [
    "INITIAL CONDITIONS"
   ]
  },
  {
   "cell_type": "code",
   "execution_count": 19,
   "metadata": {
    "collapsed": false
   },
   "outputs": [],
   "source": [
    "craft.v=vel[day*deltat_h]\n",
    "craft.p=craft.m*craft.v\n",
    "craft.pinitial = craft.p\n",
    "craft.pmag=vp.mag(craft.p)\n",
    "craft.phat = craft.p/craft.pmag\n",
    "Eki=(vp.mag(craft.pinitial)**2)/(2*craft.m)     #system: craft\n",
    "\n",
    "Moon.v=velMoon[day*deltat_h]\n",
    "Moon.p = Moon.m*Moon.v\n",
    "\n",
    "Earth.v=velEarth[day*deltat_h]\n",
    "Earth.p=Earth.m*Earth.v"
   ]
  },
  {
   "cell_type": "markdown",
   "metadata": {},
   "source": [
    "CALCULATE FORCES ON NEO"
   ]
  },
  {
   "cell_type": "code",
   "execution_count": 20,
   "metadata": {
    "collapsed": true
   },
   "outputs": [],
   "source": [
    "def get_forces(craftpos,Earthpos,Moonpos,Sunpos):\n",
    "    \n",
    "    #calculate forces on NEO\n",
    "    r_cE=craft.pos-Earth.pos\n",
    "    rmag_cE=sqrt(r_cE.x**2+r_cE.y**2+r_cE.z**2)  \n",
    "    rhat_cE=r_cE/rmag_cE\n",
    "    Fmag_cE=G*craft.m*Earth.m/(rmag_cE**2)\n",
    "    F_cE=-Fmag_cE*rhat_cE\n",
    "\n",
    "    r_cM=craft.pos-Moon.pos\n",
    "    rmag_cM=sqrt(r_cM.x**2+r_cM.y**2+r_cM.z**2)\n",
    "    rhat_cM=r_cM/rmag_cM\n",
    "    Fmag_cM=G*craft.m*Moon.m/(rmag_cM**2)\n",
    "    F_cM=-Fmag_cM*rhat_cM\n",
    "\n",
    "    r_cS=craft.pos-Sun.pos\n",
    "    rmag_cS=vp.mag(r_cS)\n",
    "    rhat_cS=r_cS/rmag_cS\n",
    "    Fmag_cS=G*craft.m*Sun.m/(rmag_cS**2)\n",
    "    F_cS=-Fmag_cS*rhat_cS\n",
    "\n",
    "    Fnet=F_cE + F_cM + F_cS\n",
    "    \n",
    "    #calculate forces on MOON\n",
    "    r_ME = Moon.pos-Earth.pos\n",
    "    rmag_ME=vp.mag(r_ME)\n",
    "    rhat_ME=r_ME/rmag_ME\n",
    "    Fmag_ME = G*Earth.m*Moon.m/(rmag_ME**2)\n",
    "    F_ME=-Fmag_ME*rhat_ME\n",
    "\n",
    "    r_Mc=-r_cM\n",
    "    rmag_Mc=rmag_cM\n",
    "    rhat_Mc=-rhat_cM\n",
    "    Fmag_Mc=Fmag_cM\n",
    "    F_Mc=-F_cM\n",
    "\n",
    "    r_MS = Moon.pos-Sun.pos\n",
    "    rmag_MS=vp.mag(r_MS)\n",
    "    rhat_MS=r_MS/rmag_MS\n",
    "    Fmag_MS = G*Moon.m*Sun.m/(rmag_MS**2)\n",
    "    F_MS=-Fmag_MS*rhat_MS\n",
    "\n",
    "    Fnet_M = F_Mc + F_ME + F_MS\n",
    "    \n",
    "    #calculate forces on EARTH\n",
    "    r_ES = Earth.pos-Sun.pos\n",
    "    rmag_ES=vp.mag(r_ES)\n",
    "    rhat_ES=r_ES/rmag_ES\n",
    "    Fmag_ES = G*Earth.m*Sun.m/(rmag_ES**2)\n",
    "    F_ES=-Fmag_ES*rhat_ES\n",
    "\n",
    "    F_EM = - F_ME\n",
    "    F_Ec = - F_cE\n",
    "\n",
    "    Fnet_E = F_Ec + F_EM + F_ES\n",
    "    \n",
    "    #calculate forces on SUN\n",
    "    Fnet_S = (-F_ES) + (-F_MS) + (-F_cS)\n",
    "    \n",
    "    return Fnet, Fnet_E, Fnet_M, Fnet_S"
   ]
  },
  {
   "cell_type": "code",
   "execution_count": 21,
   "metadata": {
    "collapsed": true
   },
   "outputs": [],
   "source": [
    "def check_for_crash(craftpos,Earthpos,Moonpos,Sunpos):\n",
    "    \n",
    "    flag=0\n",
    "    \n",
    "    r_cE=craft.pos-Earth.pos\n",
    "    rmag_cE=sqrt(r_cE.x**2+r_cE.y**2+r_cE.z**2)\n",
    "    if rmag_cE<Earth.radius:\n",
    "        flag=1\n",
    "    \n",
    "    r_cM=craft.pos-Moon.pos\n",
    "    rmag_cM=sqrt(r_cM.x**2+r_cM.y**2+r_cM.z**2)\n",
    "    if rmag_cM<Moon.radius:\n",
    "        flag=2\n",
    "        \n",
    "    r_cS=craft.pos-Sun.pos\n",
    "    rmag_cS=vp.mag(r_cS)\n",
    "    if rmag_cS<Sun.radius:\n",
    "        flag=3\n",
    "        \n",
    "    return flag"
   ]
  },
  {
   "cell_type": "code",
   "execution_count": 22,
   "metadata": {
    "collapsed": true
   },
   "outputs": [],
   "source": [
    "def get_derivatives(coord_and_vel,fnet,m):\n",
    "    coord=coord_and_vel[0]\n",
    "    vel=coord_and_vel[1]\n",
    "    derivatives=np.zeros((2,3))\n",
    "    for i in range(len(vel)-1):\n",
    "        derivatives[0,i]=vel[i]\n",
    "    derivatives[1]=fnet/m    #[0,-g,0]\n",
    "    return derivatives"
   ]
  },
  {
   "cell_type": "code",
   "execution_count": 23,
   "metadata": {
    "collapsed": true
   },
   "outputs": [],
   "source": [
    "def Euler_forw(derivative,f,t,dt):\n",
    "    deriv=derivative(f,t)\n",
    "    return np.array([f[0] + (deriv[0]*dt), f[1] + (deriv[1]*dt)])"
   ]
  },
  {
   "cell_type": "markdown",
   "metadata": {},
   "source": [
    "CALCULATIONS"
   ]
  },
  {
   "cell_type": "code",
   "execution_count": 26,
   "metadata": {
    "collapsed": false
   },
   "outputs": [
    {
     "ename": "TypeError",
     "evalue": "get_derivatives() missing 1 required positional argument: 'm'",
     "output_type": "error",
     "traceback": [
      "\u001b[0;31m---------------------------------------------------------------------------\u001b[0m",
      "\u001b[0;31mTypeError\u001b[0m                                 Traceback (most recent call last)",
      "\u001b[0;32m<ipython-input-26-5b43f13b6ec6>\u001b[0m in \u001b[0;36m<module>\u001b[0;34m()\u001b[0m\n\u001b[1;32m     18\u001b[0m     \u001b[0;31m#UPDATE POSITIONS OF ALL OBJECTS\u001b[0m\u001b[0;34m\u001b[0m\u001b[0;34m\u001b[0m\u001b[0m\n\u001b[1;32m     19\u001b[0m \u001b[0;34m\u001b[0m\u001b[0m\n\u001b[0;32m---> 20\u001b[0;31m     \u001b[0mcraft_pos_vel\u001b[0m \u001b[0;34m=\u001b[0m \u001b[0mEuler_forw\u001b[0m\u001b[0;34m(\u001b[0m\u001b[0mget_derivatives\u001b[0m\u001b[0;34m,\u001b[0m\u001b[0;34m[\u001b[0m\u001b[0mcraft\u001b[0m\u001b[0;34m.\u001b[0m\u001b[0mpos\u001b[0m\u001b[0;34m,\u001b[0m\u001b[0mcraft\u001b[0m\u001b[0;34m.\u001b[0m\u001b[0mv\u001b[0m\u001b[0;34m]\u001b[0m\u001b[0;34m,\u001b[0m\u001b[0mFnet\u001b[0m\u001b[0;34m,\u001b[0m\u001b[0mcraft\u001b[0m\u001b[0;34m.\u001b[0m\u001b[0mm\u001b[0m\u001b[0;34m)\u001b[0m\u001b[0;34m\u001b[0m\u001b[0m\n\u001b[0m\u001b[1;32m     21\u001b[0m     \u001b[0mcraft\u001b[0m\u001b[0;34m.\u001b[0m\u001b[0mpos\u001b[0m \u001b[0;34m=\u001b[0m \u001b[0mnp\u001b[0m\u001b[0;34m.\u001b[0m\u001b[0marray\u001b[0m\u001b[0;34m(\u001b[0m\u001b[0;34m[\u001b[0m\u001b[0mcraft_pos_vel\u001b[0m\u001b[0;34m[\u001b[0m\u001b[0;36m0\u001b[0m\u001b[0;34m]\u001b[0m\u001b[0;34m]\u001b[0m\u001b[0;34m)\u001b[0m\u001b[0;34m\u001b[0m\u001b[0m\n\u001b[1;32m     22\u001b[0m     \u001b[0mcraft\u001b[0m\u001b[0;34m.\u001b[0m\u001b[0mv\u001b[0m \u001b[0;34m=\u001b[0m \u001b[0mnp\u001b[0m\u001b[0;34m.\u001b[0m\u001b[0marray\u001b[0m\u001b[0;34m(\u001b[0m\u001b[0;34m[\u001b[0m\u001b[0mcraft_pos_vel\u001b[0m\u001b[0;34m[\u001b[0m\u001b[0;36m1\u001b[0m\u001b[0;34m]\u001b[0m\u001b[0;34m]\u001b[0m\u001b[0;34m)\u001b[0m\u001b[0;34m\u001b[0m\u001b[0m\n",
      "\u001b[0;32m<ipython-input-23-8582ffae01f7>\u001b[0m in \u001b[0;36mEuler_forw\u001b[0;34m(derivative, f, t, dt)\u001b[0m\n\u001b[1;32m      1\u001b[0m \u001b[0;32mdef\u001b[0m \u001b[0mEuler_forw\u001b[0m\u001b[0;34m(\u001b[0m\u001b[0mderivative\u001b[0m\u001b[0;34m,\u001b[0m\u001b[0mf\u001b[0m\u001b[0;34m,\u001b[0m\u001b[0mt\u001b[0m\u001b[0;34m,\u001b[0m\u001b[0mdt\u001b[0m\u001b[0;34m)\u001b[0m\u001b[0;34m:\u001b[0m\u001b[0;34m\u001b[0m\u001b[0m\n\u001b[0;32m----> 2\u001b[0;31m     \u001b[0mderiv\u001b[0m\u001b[0;34m=\u001b[0m\u001b[0mderivative\u001b[0m\u001b[0;34m(\u001b[0m\u001b[0mf\u001b[0m\u001b[0;34m,\u001b[0m\u001b[0mt\u001b[0m\u001b[0;34m)\u001b[0m\u001b[0;34m\u001b[0m\u001b[0m\n\u001b[0m\u001b[1;32m      3\u001b[0m     \u001b[0;32mreturn\u001b[0m \u001b[0mnp\u001b[0m\u001b[0;34m.\u001b[0m\u001b[0marray\u001b[0m\u001b[0;34m(\u001b[0m\u001b[0;34m[\u001b[0m\u001b[0mf\u001b[0m\u001b[0;34m[\u001b[0m\u001b[0;36m0\u001b[0m\u001b[0;34m]\u001b[0m \u001b[0;34m+\u001b[0m \u001b[0;34m(\u001b[0m\u001b[0mderiv\u001b[0m\u001b[0;34m[\u001b[0m\u001b[0;36m0\u001b[0m\u001b[0;34m]\u001b[0m\u001b[0;34m*\u001b[0m\u001b[0mdt\u001b[0m\u001b[0;34m)\u001b[0m\u001b[0;34m,\u001b[0m \u001b[0mf\u001b[0m\u001b[0;34m[\u001b[0m\u001b[0;36m1\u001b[0m\u001b[0;34m]\u001b[0m \u001b[0;34m+\u001b[0m \u001b[0;34m(\u001b[0m\u001b[0mderiv\u001b[0m\u001b[0;34m[\u001b[0m\u001b[0;36m1\u001b[0m\u001b[0;34m]\u001b[0m\u001b[0;34m*\u001b[0m\u001b[0mdt\u001b[0m\u001b[0;34m)\u001b[0m\u001b[0;34m]\u001b[0m\u001b[0;34m)\u001b[0m\u001b[0;34m\u001b[0m\u001b[0m\n",
      "\u001b[0;31mTypeError\u001b[0m: get_derivatives() missing 1 required positional argument: 'm'"
     ]
    }
   ],
   "source": [
    "W_oncraft=0\n",
    "\n",
    "t=day*deltat_h\n",
    "\n",
    "while t<1.3*365*24*60*60:\n",
    "    vp.rate(1e3)\n",
    "    #scene2.autoscale=False\n",
    "\n",
    "    craft.phatbefore = craft.phat\n",
    "    \n",
    "    ###########################\n",
    "    #CALCULATE FORCES ON CRAFT\n",
    "\n",
    "    Fnet,Fnet_E,Fnet_M,Fnet_S = get_forces(craft.pos,Earth.pos,Moon.pos,Sun.pos)\n",
    "    \n",
    "    ###########################\n",
    "    #UPDATE POSITIONS OF ALL OBJECTS\n",
    "    \n",
    "    craft_pos_vel = Euler_forw(get_derivatives,[craft.pos,craft.v],Fnet,craft.m)\n",
    "    craft.pos = np.array([craft_pos_vel[0]])\n",
    "    craft.v = np.array([craft_pos_vel[1]])\n",
    "  \n",
    "    #craft.p=craft.p+Fnet*deltat\n",
    "    #craft.pos=craft.pos+(craft.p/craft.m)*deltat\n",
    "\n",
    "    Earth_pos_vel = Euler_forw(get_derivatives,[Earth.pos,Earth.v],Fnet_E,Earth.m)\n",
    "    Earth.pos = np.array([Earth_pos_vel[0]])\n",
    "    Earth.v = np.array([Earth_pos_vel[1]])\n",
    "    \n",
    "    #Earth.p = Earth.p + Fnet_E*deltat\n",
    "    #Earth.pos = Earth.pos + (Earth.p/Earth.m)*deltat\n",
    "\n",
    "    Moon_pos_vel = Euler_forw(get_derivatives,[Moon.pos,Moon.v],Fnet_E,Moon.m)\n",
    "    Moon.pos = np.array([Moon_pos_vel[0]])\n",
    "    Moon.v = np.array([Moon_pos_vel[1]])\n",
    "    \n",
    "    #Moon.p = Moon.p + Fnet_M*deltat\n",
    "    #Moon.pos = Moon.pos + (Moon.p/Moon.m)*deltat\n",
    "\n",
    "    craft2.pos=craft.pos-Earth.pos\n",
    "    \n",
    "    ###########################\n",
    "    #CHECK FOR CRASHES\n",
    "    \n",
    "    flag_crash = check_for_crash(craft.pos,Earth.pos,Moon.pos,Sun.pos)\n",
    "    if(flag_crash != 0):\n",
    "        print(\"CRASHED ON \",object_list[flag_crash])\n",
    "\n",
    "    ###########################\n",
    "    #CALCULATE F NET COMPONENTS, WORK, ENERGIES\n",
    "\n",
    "    craft.pmag=vp.mag(craft.p)\n",
    "    craft.phat=craft.p/craft.pmag\n",
    "    Fnetpar = vp.dot(Fnet,craft.phat)*craft.phat\n",
    "    Fnetper = Fnet - Fnetpar\n",
    "\n",
    "    Ek=(craft.pmag**2)/(2*craft.m)     #system: craft\n",
    "\n",
    "    #U=-G*Earth.m*craft.m/rmag_cE    #system: craft+earth\n",
    "    #U=0     #system: craft\n",
    "    #E=K+U   #system: craft+earth\n",
    "\n",
    "    deltar=(craft.p/craft.m)*deltat\n",
    "    W_increment=vp.dot(Fnet, deltar)\n",
    "    W_oncraft=W_oncraft+W_increment\n",
    "\n",
    "    #E=K+U+W_oncraft     #system:craft\n",
    "\n",
    "    #Kgraph.plot(pos=(t,K))\n",
    "    #this U graph will be compared with the work done (system=craft)\n",
    "    #Ugraph.plot(pos=(t,U-U0))\n",
    "    #Ugraph.plot(pos=(t,U))\n",
    "    #Etotal.plot(pos=(t,E))\n",
    "    #Wgraph.plot(pos=(t,W_oncraft))\n",
    "\n",
    "    if abs(t%86400)<10**(-1):\n",
    "            #print(t,abs(t%86400),mag(craft.pos-pos[round(t)]))\n",
    "            #ErrorGraph.plot(pos=(t,mag(craft.pos-pos[round(t)])))\n",
    "            ErrorGraph.plot(pos=(t,vp.mag(craft2.pos-(pos[t]-posEarth[t]))))\n",
    "    FnetGraph.plot(pos=(t,vp.mag(Fnet)))\n",
    "    FnetparGraph.plot(pos=(t,vp.mag(Fnetpar)))\n",
    "    FnetperGraph.plot(pos=(t,vp.mag(Fnetper)))\n",
    "    FnetparPGraph.plot(pos=(t,1e7*vp.dot(Fnet,craft.phat)))\n",
    "    PFnetparGraph.plot(pos=(t,craft.pmag))\n",
    "    FnetperPGraph.plot(pos=(t,vp.mag(Fnetper)))\n",
    "    #PFnetperGraph.plot(pos=(t,100*math.acos(dot(craft.p,craft.pinitial)/(mag(craft.p)*mag(craft.pinitial)))))\n",
    "    PFnetperGraph.plot(pos=(t,1e5*math.acos(vp.dot(craft.phat,craft.phatbefore))/deltat))\n",
    "    EkGraph.plot(pos=(t,Ek))\n",
    "    WGraph.plot(pos=(t,W_oncraft))\n",
    "    DeltaEGraph.plot(pos=(t,Ek-Eki-W_oncraft))\n",
    "    EkrGraph.plot(pos=(vp.mag(craft.pos-Earth.pos),Ek))\n",
    "    #print(t,100*math.acos(dot(craft.p,craft.pinitial)/(mag(craft.p)*mag(craft.pinitial))))\n",
    "\n",
    "    #trail.append(pos=craft.pos)\n",
    "    #parr_c.pos=craft.pos\n",
    "    parr_c.axis=craft.p*pscale\n",
    "    #fnetarr_c.pos=craft.pos\n",
    "    fnetarr_c.axis=fscale*Fnet\n",
    "    fnetpararr_c.axis = fscale*Fnetpar\n",
    "    fnetperarr_c.axis = fscale*Fnetper\n",
    "    #print(Fnet,craft.p)\n",
    "    #fearr_c.pos=craft.pos\n",
    "    #fearr_c.axis=fscale*F_cE\n",
    "    #fmarr_c.pos=craft.pos\n",
    "    #fmarr_c.axis=fscale*F_cM\n",
    "    #fsunarr_c.axis=fscale*F_cS\n",
    "\n",
    "    #scene.center=Sun.pos\n",
    "    #print(t,1.3*365*24*60*60)\n",
    "    t=t+deltat"
   ]
  },
  {
   "cell_type": "code",
   "execution_count": null,
   "metadata": {
    "collapsed": true
   },
   "outputs": [],
   "source": []
  }
 ],
 "metadata": {
  "anaconda-cloud": {},
  "kernelspec": {
   "display_name": "VPython",
   "language": "python",
   "name": "vpython"
  },
  "language_info": {
   "codemirror_mode": {
    "name": "ipython",
    "version": 3
   },
   "file_extension": ".py",
   "mimetype": "text/x-python",
   "name": "python",
   "nbconvert_exporter": "python",
   "pygments_lexer": "ipython3",
   "version": "3.5.2"
  }
 },
 "nbformat": 4,
 "nbformat_minor": 1
}
